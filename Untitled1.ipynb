{
  "nbformat": 4,
  "nbformat_minor": 0,
  "metadata": {
    "colab": {
      "provenance": [],
      "authorship_tag": "ABX9TyMV0AFm6rkNDTQp18QRHEzW",
      "include_colab_link": true
    },
    "kernelspec": {
      "name": "python3",
      "display_name": "Python 3"
    },
    "language_info": {
      "name": "python"
    }
  },
  "cells": [
    {
      "cell_type": "markdown",
      "metadata": {
        "id": "view-in-github",
        "colab_type": "text"
      },
      "source": [
        "<a href=\"https://colab.research.google.com/github/park1NG/BoB-VC-Project/blob/main/Untitled1.ipynb\" target=\"_parent\"><img src=\"https://colab.research.google.com/assets/colab-badge.svg\" alt=\"Open In Colab\"/></a>"
      ]
    },
    {
      "cell_type": "code",
      "source": [
        "# 필요한 라이브러리 설치\n",
        "!pip install statsmodels\n",
        "\n",
        "# 라이브러리 임포트\n",
        "import pandas as pd\n",
        "import numpy as np\n",
        "import statsmodels.api as sm# 라이브러리 임포트\n",
        "import pandas as pd\n",
        "import numpy as np\n",
        "from sklearn.model_selection import train_test_split\n",
        "from sklearn.linear_model import LinearRegression\n",
        "from sklearn.metrics import mean_squared_error, r2_score\n",
        "from sklearn.ensemble import RandomForestRegressor\n",
        "from sklearn.preprocessing import StandardScaler\n",
        "from xgboost import XGBRegressor\n",
        "from sklearn.pipeline import Pipeline\n",
        "from sklearn.compose import ColumnTransformer\n",
        "from sklearn.model_selection import train_test_split, GridSearchCV"
      ],
      "metadata": {
        "colab": {
          "base_uri": "https://localhost:8080/"
        },
        "id": "M2nfDXkqg1y6",
        "outputId": "5afcfdf0-14b7-462e-c567-389b77e959cc"
      },
      "execution_count": 47,
      "outputs": [
        {
          "output_type": "stream",
          "name": "stdout",
          "text": [
            "Requirement already satisfied: statsmodels in /usr/local/lib/python3.10/dist-packages (0.14.2)\n",
            "Requirement already satisfied: numpy>=1.22.3 in /usr/local/lib/python3.10/dist-packages (from statsmodels) (1.25.2)\n",
            "Requirement already satisfied: scipy!=1.9.2,>=1.8 in /usr/local/lib/python3.10/dist-packages (from statsmodels) (1.11.4)\n",
            "Requirement already satisfied: pandas!=2.1.0,>=1.4 in /usr/local/lib/python3.10/dist-packages (from statsmodels) (2.0.3)\n",
            "Requirement already satisfied: patsy>=0.5.6 in /usr/local/lib/python3.10/dist-packages (from statsmodels) (0.5.6)\n",
            "Requirement already satisfied: packaging>=21.3 in /usr/local/lib/python3.10/dist-packages (from statsmodels) (24.1)\n",
            "Requirement already satisfied: python-dateutil>=2.8.2 in /usr/local/lib/python3.10/dist-packages (from pandas!=2.1.0,>=1.4->statsmodels) (2.8.2)\n",
            "Requirement already satisfied: pytz>=2020.1 in /usr/local/lib/python3.10/dist-packages (from pandas!=2.1.0,>=1.4->statsmodels) (2023.4)\n",
            "Requirement already satisfied: tzdata>=2022.1 in /usr/local/lib/python3.10/dist-packages (from pandas!=2.1.0,>=1.4->statsmodels) (2024.1)\n",
            "Requirement already satisfied: six in /usr/local/lib/python3.10/dist-packages (from patsy>=0.5.6->statsmodels) (1.16.0)\n"
          ]
        }
      ]
    },
    {
      "cell_type": "code",
      "source": [
        "from google.colab import drive\n",
        "drive.mount('/content/drive')"
      ],
      "metadata": {
        "colab": {
          "base_uri": "https://localhost:8080/"
        },
        "id": "_LBY452Zf2oI",
        "outputId": "9f41a427-fb24-4874-b3a3-72ec89bf7032"
      },
      "execution_count": 14,
      "outputs": [
        {
          "output_type": "stream",
          "name": "stdout",
          "text": [
            "Drive already mounted at /content/drive; to attempt to forcibly remount, call drive.mount(\"/content/drive\", force_remount=True).\n"
          ]
        }
      ]
    },
    {
      "cell_type": "code",
      "source": [
        "cd MyDrive/Colab Notebooks/"
      ],
      "metadata": {
        "colab": {
          "base_uri": "https://localhost:8080/"
        },
        "id": "3U6t8i7ygNtP",
        "outputId": "f82569ef-a9b6-4943-b9bf-ed1df576c3b8"
      },
      "execution_count": 22,
      "outputs": [
        {
          "output_type": "stream",
          "name": "stdout",
          "text": [
            "/content/drive/MyDrive/Colab Notebooks\n"
          ]
        }
      ]
    },
    {
      "cell_type": "code",
      "source": [
        "ls"
      ],
      "metadata": {
        "colab": {
          "base_uri": "https://localhost:8080/"
        },
        "id": "L1FcY7ocgdmU",
        "outputId": "5cb7bf48-2b09-42f7-8fa1-c72be5ee1c61"
      },
      "execution_count": 23,
      "outputs": [
        {
          "output_type": "stream",
          "name": "stdout",
          "text": [
            "'car (1).gsheet'     car.gsheet                                            Untitled0.ipynb\n",
            " car.csv             Interpolated_Car_Sales_Data_with_Monthly_Trends.csv  'Untitled (1)'\n",
            " car_data_full.csv   Untitled                                              Untitled1.ipynb\n"
          ]
        }
      ]
    },
    {
      "cell_type": "code",
      "execution_count": 24,
      "metadata": {
        "id": "ChDiS1wyfKth"
      },
      "outputs": [],
      "source": [
        "import pandas as pd\n",
        "import statsmodels.api as sm\n",
        "\n",
        "# 데이터 로드\n",
        "file_path = './car_data_full.csv'\n",
        "car_data = pd.read_csv(file_path)"
      ]
    },
    {
      "cell_type": "code",
      "source": [
        "pwd"
      ],
      "metadata": {
        "colab": {
          "base_uri": "https://localhost:8080/",
          "height": 36
        },
        "id": "t6nvJ3ZYfNLe",
        "outputId": "445011ee-0f06-46ed-9196-d9fcf4269c37"
      },
      "execution_count": 25,
      "outputs": [
        {
          "output_type": "execute_result",
          "data": {
            "text/plain": [
              "'/content/drive/MyDrive/Colab Notebooks'"
            ],
            "application/vnd.google.colaboratory.intrinsic+json": {
              "type": "string"
            }
          },
          "metadata": {},
          "execution_count": 25
        }
      ]
    },
    {
      "cell_type": "code",
      "source": [
        "# 결측치 처리 및 데이터 전처리\n",
        "car_data.replace('-', 0, inplace=True)\n",
        "car_data.fillna(0, inplace=True)\n",
        "\n",
        "# 모든 데이터가 숫자로 변환 가능하도록 처리\n",
        "for column in car_data.columns:\n",
        "    car_data[column] = pd.to_numeric(car_data[column].astype(str).str.replace(',', ''), errors='coerce')\n",
        "\n",
        "# 결측치 처리 (숫자로 변환할 수 없는 경우 0으로 대체)\n",
        "car_data.fillna(0, inplace=True)\n",
        "\n",
        "# 종속 변수(판매량)"
      ],
      "metadata": {
        "id": "93jcsw3SfUkg"
      },
      "execution_count": 26,
      "outputs": []
    },
    {
      "cell_type": "code",
      "source": [
        "\n",
        "# 모든 데이터가 숫자로 변환 가능하도록 처리\n",
        "car_data = car_data.apply(pd.to_numeric, errors='ignore')\n"
      ],
      "metadata": {
        "id": "dpf5PPGpglTd"
      },
      "execution_count": 27,
      "outputs": []
    },
    {
      "cell_type": "code",
      "source": [
        "# 종속 변수(판매량)\n",
        "dependent_vars = ['EcoVolt 5 (NE)', 'LuxEV 80 (RG3 EV)', 'VoltSUV (JK EV)', 'EcoVolt 6 (CE)', 'UrbanEV (SX2 EV)', 'EcoVolt 5 Sport (NE N)']\n"
      ],
      "metadata": {
        "id": "kkBfyDILgp0E"
      },
      "execution_count": 28,
      "outputs": []
    },
    {
      "cell_type": "code",
      "source": [
        "# 독립 변수 설정\n",
        "independent_vars = ['KOSPI 종가', '국고보조금', '1인당 실질 국민총소득(GNI)', '소비자물가지수', '충전소 1기 당 대당 비율']\n"
      ],
      "metadata": {
        "id": "8TAkDuMqgsLZ"
      },
      "execution_count": 29,
      "outputs": []
    },
    {
      "cell_type": "code",
      "source": [
        "# OLS 검정 함수 정의\n",
        "def ols_test(dependent_var, independent_vars, data):\n",
        "    X = data[independent_vars]\n",
        "    y = data[dependent_var]\n",
        "    X = sm.add_constant(X)  # 상수항 추가\n",
        "    model = sm.OLS(y, X).fit()\n",
        "    return model.summary()"
      ],
      "metadata": {
        "id": "uGzb5gDqgtLZ"
      },
      "execution_count": 30,
      "outputs": []
    },
    {
      "cell_type": "code",
      "source": [
        "# 각 모델별 OLS 검정 수행\n",
        "for var in dependent_vars:\n",
        "    print(f'--- OLS 결과: {var} ---')\n",
        "    print(ols_test(var, independent_vars, car_data))\n",
        "    print('\\n\\n')"
      ],
      "metadata": {
        "colab": {
          "base_uri": "https://localhost:8080/"
        },
        "id": "ov6p6BlkguP_",
        "outputId": "c1f4235e-f5ee-4be2-87a0-0c14736400fd"
      },
      "execution_count": 31,
      "outputs": [
        {
          "output_type": "stream",
          "name": "stdout",
          "text": [
            "--- OLS 결과: EcoVolt 5 (NE) ---\n",
            "                            OLS Regression Results                            \n",
            "==============================================================================\n",
            "Dep. Variable:         EcoVolt 5 (NE)   R-squared:                       0.510\n",
            "Model:                            OLS   Adj. R-squared:                  0.485\n",
            "Method:                 Least Squares   F-statistic:                     19.99\n",
            "Date:                Thu, 25 Jul 2024   Prob (F-statistic):           1.30e-13\n",
            "Time:                        23:49:39   Log-Likelihood:                -825.49\n",
            "No. Observations:                 102   AIC:                             1663.\n",
            "Df Residuals:                      96   BIC:                             1679.\n",
            "Df Model:                           5                                         \n",
            "Covariance Type:            nonrobust                                         \n",
            "=====================================================================================\n",
            "                        coef    std err          t      P>|t|      [0.025      0.975]\n",
            "-------------------------------------------------------------------------------------\n",
            "const             -1.228e+04    1.2e+04     -1.027      0.307    -3.6e+04    1.15e+04\n",
            "KOSPI 종가              1.3163      0.444      2.964      0.004       0.435       2.198\n",
            "국고보조금             -9.292e-05   6.77e-05     -1.372      0.173      -0.000    4.16e-05\n",
            "1인당 실질 국민총소득(GNI)     0.0002      0.000      0.369      0.713      -0.001       0.001\n",
            "소비자물가지수              40.6888     48.533      0.838      0.404     -55.649     137.027\n",
            "충전소 1기 당 대당 비율      233.4606    107.835      2.165      0.033      19.411     447.511\n",
            "==============================================================================\n",
            "Omnibus:                        8.259   Durbin-Watson:                   0.660\n",
            "Prob(Omnibus):                  0.016   Jarque-Bera (JB):               10.497\n",
            "Skew:                           0.411   Prob(JB):                      0.00526\n",
            "Kurtosis:                       4.340   Cond. No.                     5.47e+09\n",
            "==============================================================================\n",
            "\n",
            "Notes:\n",
            "[1] Standard Errors assume that the covariance matrix of the errors is correctly specified.\n",
            "[2] The condition number is large, 5.47e+09. This might indicate that there are\n",
            "strong multicollinearity or other numerical problems.\n",
            "\n",
            "\n",
            "\n",
            "--- OLS 결과: LuxEV 80 (RG3 EV) ---\n",
            "                            OLS Regression Results                            \n",
            "==============================================================================\n",
            "Dep. Variable:      LuxEV 80 (RG3 EV)   R-squared:                       0.248\n",
            "Model:                            OLS   Adj. R-squared:                  0.209\n",
            "Method:                 Least Squares   F-statistic:                     6.325\n",
            "Date:                Thu, 25 Jul 2024   Prob (F-statistic):           4.07e-05\n",
            "Time:                        23:49:39   Log-Likelihood:                -601.80\n",
            "No. Observations:                 102   AIC:                             1216.\n",
            "Df Residuals:                      96   BIC:                             1231.\n",
            "Df Model:                           5                                         \n",
            "Covariance Type:            nonrobust                                         \n",
            "=====================================================================================\n",
            "                        coef    std err          t      P>|t|      [0.025      0.975]\n",
            "-------------------------------------------------------------------------------------\n",
            "const              -852.4052   1334.195     -0.639      0.524   -3500.762    1795.952\n",
            "KOSPI 종가              0.0416      0.050      0.839      0.404      -0.057       0.140\n",
            "국고보조금             -8.408e-06   7.56e-06     -1.112      0.269   -2.34e-05     6.6e-06\n",
            "1인당 실질 국민총소득(GNI)  1.699e-05   5.08e-05      0.334      0.739   -8.39e-05       0.000\n",
            "소비자물가지수               2.3764      5.415      0.439      0.662      -8.373      13.126\n",
            "충전소 1기 당 대당 비율       14.3603     12.032      1.193      0.236      -9.523      38.244\n",
            "==============================================================================\n",
            "Omnibus:                       62.515   Durbin-Watson:                   0.645\n",
            "Prob(Omnibus):                  0.000   Jarque-Bera (JB):              251.651\n",
            "Skew:                           2.120   Prob(JB):                     2.26e-55\n",
            "Kurtosis:                       9.421   Cond. No.                     5.47e+09\n",
            "==============================================================================\n",
            "\n",
            "Notes:\n",
            "[1] Standard Errors assume that the covariance matrix of the errors is correctly specified.\n",
            "[2] The condition number is large, 5.47e+09. This might indicate that there are\n",
            "strong multicollinearity or other numerical problems.\n",
            "\n",
            "\n",
            "\n",
            "--- OLS 결과: VoltSUV (JK EV) ---\n",
            "                            OLS Regression Results                            \n",
            "==============================================================================\n",
            "Dep. Variable:        VoltSUV (JK EV)   R-squared:                       0.382\n",
            "Model:                            OLS   Adj. R-squared:                  0.350\n",
            "Method:                 Least Squares   F-statistic:                     11.87\n",
            "Date:                Thu, 25 Jul 2024   Prob (F-statistic):           5.96e-09\n",
            "Time:                        23:49:39   Log-Likelihood:                -604.02\n",
            "No. Observations:                 102   AIC:                             1220.\n",
            "Df Residuals:                      96   BIC:                             1236.\n",
            "Df Model:                           5                                         \n",
            "Covariance Type:            nonrobust                                         \n",
            "=====================================================================================\n",
            "                        coef    std err          t      P>|t|      [0.025      0.975]\n",
            "-------------------------------------------------------------------------------------\n",
            "const              -452.9661   1363.583     -0.332      0.740   -3159.657    2253.724\n",
            "KOSPI 종가             -0.0236      0.051     -0.467      0.642      -0.124       0.077\n",
            "국고보조금              -2.61e-06   7.73e-06     -0.338      0.736   -1.79e-05    1.27e-05\n",
            "1인당 실질 국민총소득(GNI) -3.104e-05   5.19e-05     -0.597      0.552      -0.000    7.21e-05\n",
            "소비자물가지수              16.5357      5.535      2.988      0.004       5.550      27.522\n",
            "충전소 1기 당 대당 비율        0.6682     12.297      0.054      0.957     -23.741      25.078\n",
            "==============================================================================\n",
            "Omnibus:                       61.598   Durbin-Watson:                   0.372\n",
            "Prob(Omnibus):                  0.000   Jarque-Bera (JB):              280.500\n",
            "Skew:                           2.007   Prob(JB):                     1.23e-61\n",
            "Kurtosis:                      10.063   Cond. No.                     5.47e+09\n",
            "==============================================================================\n",
            "\n",
            "Notes:\n",
            "[1] Standard Errors assume that the covariance matrix of the errors is correctly specified.\n",
            "[2] The condition number is large, 5.47e+09. This might indicate that there are\n",
            "strong multicollinearity or other numerical problems.\n",
            "\n",
            "\n",
            "\n",
            "--- OLS 결과: EcoVolt 6 (CE) ---\n",
            "                            OLS Regression Results                            \n",
            "==============================================================================\n",
            "Dep. Variable:         EcoVolt 6 (CE)   R-squared:                       0.261\n",
            "Model:                            OLS   Adj. R-squared:                  0.222\n",
            "Method:                 Least Squares   F-statistic:                     6.779\n",
            "Date:                Thu, 25 Jul 2024   Prob (F-statistic):           1.88e-05\n",
            "Time:                        23:49:39   Log-Likelihood:                -792.13\n",
            "No. Observations:                 102   AIC:                             1596.\n",
            "Df Residuals:                      96   BIC:                             1612.\n",
            "Df Model:                           5                                         \n",
            "Covariance Type:            nonrobust                                         \n",
            "=====================================================================================\n",
            "                        coef    std err          t      P>|t|      [0.025      0.975]\n",
            "-------------------------------------------------------------------------------------\n",
            "const             -8538.8820   8621.745     -0.990      0.324   -2.57e+04    8575.147\n",
            "KOSPI 종가             -0.4735      0.320     -1.479      0.143      -1.109       0.162\n",
            "국고보조금              1.745e-05   4.89e-05      0.357      0.722   -7.95e-05       0.000\n",
            "1인당 실질 국민총소득(GNI)  9.233e-05      0.000      0.281      0.779      -0.001       0.001\n",
            "소비자물가지수              62.3758     34.995      1.782      0.078      -7.088     131.840\n",
            "충전소 1기 당 대당 비율       17.7599     77.753      0.228      0.820    -136.579     172.099\n",
            "==============================================================================\n",
            "Omnibus:                      109.696   Durbin-Watson:                   0.697\n",
            "Prob(Omnibus):                  0.000   Jarque-Bera (JB):             1457.024\n",
            "Skew:                           3.658   Prob(JB):                         0.00\n",
            "Kurtosis:                      20.009   Cond. No.                     5.47e+09\n",
            "==============================================================================\n",
            "\n",
            "Notes:\n",
            "[1] Standard Errors assume that the covariance matrix of the errors is correctly specified.\n",
            "[2] The condition number is large, 5.47e+09. This might indicate that there are\n",
            "strong multicollinearity or other numerical problems.\n",
            "\n",
            "\n",
            "\n",
            "--- OLS 결과: UrbanEV (SX2 EV) ---\n",
            "                            OLS Regression Results                            \n",
            "==============================================================================\n",
            "Dep. Variable:       UrbanEV (SX2 EV)   R-squared:                       0.416\n",
            "Model:                            OLS   Adj. R-squared:                  0.385\n",
            "Method:                 Least Squares   F-statistic:                     13.65\n",
            "Date:                Thu, 25 Jul 2024   Prob (F-statistic):           4.64e-10\n",
            "Time:                        23:49:39   Log-Likelihood:                -594.58\n",
            "No. Observations:                 102   AIC:                             1201.\n",
            "Df Residuals:                      96   BIC:                             1217.\n",
            "Df Model:                           5                                         \n",
            "Covariance Type:            nonrobust                                         \n",
            "=====================================================================================\n",
            "                        coef    std err          t      P>|t|      [0.025      0.975]\n",
            "-------------------------------------------------------------------------------------\n",
            "const             -1736.7231   1243.067     -1.397      0.166   -4204.192     730.746\n",
            "KOSPI 종가             -0.0074      0.046     -0.159      0.874      -0.099       0.084\n",
            "국고보조금              1.282e-05   7.04e-06      1.820      0.072   -1.16e-06    2.68e-05\n",
            "1인당 실질 국민총소득(GNI) -4.259e-06   4.74e-05     -0.090      0.929   -9.83e-05    8.97e-05\n",
            "소비자물가지수              17.6870      5.045      3.506      0.001       7.672      27.702\n",
            "충전소 1기 당 대당 비율        2.4778     11.210      0.221      0.826     -19.775      24.730\n",
            "==============================================================================\n",
            "Omnibus:                       86.491   Durbin-Watson:                   1.181\n",
            "Prob(Omnibus):                  0.000   Jarque-Bera (JB):             1047.655\n",
            "Skew:                           2.565   Prob(JB):                    3.20e-228\n",
            "Kurtosis:                      17.838   Cond. No.                     5.47e+09\n",
            "==============================================================================\n",
            "\n",
            "Notes:\n",
            "[1] Standard Errors assume that the covariance matrix of the errors is correctly specified.\n",
            "[2] The condition number is large, 5.47e+09. This might indicate that there are\n",
            "strong multicollinearity or other numerical problems.\n",
            "\n",
            "\n",
            "\n",
            "--- OLS 결과: EcoVolt 5 Sport (NE N) ---\n",
            "                              OLS Regression Results                              \n",
            "==================================================================================\n",
            "Dep. Variable:     EcoVolt 5 Sport (NE N)   R-squared:                       0.306\n",
            "Model:                                OLS   Adj. R-squared:                  0.270\n",
            "Method:                     Least Squares   F-statistic:                     8.484\n",
            "Date:                    Thu, 25 Jul 2024   Prob (F-statistic):           1.11e-06\n",
            "Time:                            23:49:39   Log-Likelihood:                -406.02\n",
            "No. Observations:                     102   AIC:                             824.0\n",
            "Df Residuals:                          96   BIC:                             839.8\n",
            "Df Model:                               5                                         \n",
            "Covariance Type:                nonrobust                                         \n",
            "=====================================================================================\n",
            "                        coef    std err          t      P>|t|      [0.025      0.975]\n",
            "-------------------------------------------------------------------------------------\n",
            "const              -177.3599    195.713     -0.906      0.367    -565.848     211.128\n",
            "KOSPI 종가             -0.0025      0.007     -0.337      0.737      -0.017       0.012\n",
            "국고보조금              1.661e-06   1.11e-06      1.498      0.137    -5.4e-07    3.86e-06\n",
            "1인당 실질 국민총소득(GNI) -2.119e-06   7.46e-06     -0.284      0.777   -1.69e-05    1.27e-05\n",
            "소비자물가지수               2.4154      0.794      3.041      0.003       0.839       3.992\n",
            "충전소 1기 당 대당 비율       -0.2402      1.765     -0.136      0.892      -3.744       3.263\n",
            "==============================================================================\n",
            "Omnibus:                      101.434   Durbin-Watson:                   0.781\n",
            "Prob(Omnibus):                  0.000   Jarque-Bera (JB):             1316.824\n",
            "Skew:                           3.240   Prob(JB):                    1.14e-286\n",
            "Kurtosis:                      19.366   Cond. No.                     5.47e+09\n",
            "==============================================================================\n",
            "\n",
            "Notes:\n",
            "[1] Standard Errors assume that the covariance matrix of the errors is correctly specified.\n",
            "[2] The condition number is large, 5.47e+09. This might indicate that there are\n",
            "strong multicollinearity or other numerical problems.\n",
            "\n",
            "\n",
            "\n"
          ]
        }
      ]
    },
    {
      "cell_type": "code",
      "source": [
        "\n",
        "# 모델별 유의미한 피처 선정 및 학습, 예측\n",
        "\n",
        "# 유의미한 피처 사전 정의\n",
        "significant_features = {\n",
        "    'EcoVolt 5 (NE)': ['KOSPI 종가', '충전소 1기 당 대당 비율'],\n",
        "    'LuxEV 80 (RG3 EV)': [],  # 유의미한 피처 없음\n",
        "    'VoltSUV (JK EV)': ['소비자물가지수'],\n",
        "    'EcoVolt 6 (CE)': [],  # 유의미한 피처 없음\n",
        "    'UrbanEV (SX2 EV)': ['소비자물가지수'],\n",
        "    'EcoVolt 5 Sport (NE N)': ['소비자물가지수']\n",
        "}\n",
        "\n",
        "# 판매량 예측을 위한 데이터 준비\n",
        "def prepare_data(model_name, features, data):\n",
        "    # 필요한 피처와 타겟 설정\n",
        "    if not features:  # 유의미한 피처가 없는 경우 전체 피처 사용\n",
        "        features = ['KOSPI 종가', '국고보조금', '1인당 실질 국민총소득(GNI)', '소비자물가지수', '충전소 1기 당 대당 비율']\n",
        "    X = data[features]\n",
        "    y = data[model_name]\n",
        "    return train_test_split(X, y, test_size=0.2, random_state=42)"
      ],
      "metadata": {
        "id": "-9HSdxhOgvUX"
      },
      "execution_count": 32,
      "outputs": []
    },
    {
      "cell_type": "code",
      "source": [
        "def prepare_data(model_name, features, data):\n",
        "    if not features:  # 유의미한 피처가 없는 경우 전체 피처 사용\n",
        "        features = ['KOSPI 종가', '국고보조금', '1인당 실질 국민총소득(GNI)', '소비자물가지수', '충전소 1기 당 대당 비율']\n",
        "    X = data[features]\n",
        "    y = car_data[model_name]\n",
        "    return train_test_split(X, y, test_size=0.2, random_state=42)\n"
      ],
      "metadata": {
        "id": "ib0NxdxErA25"
      },
      "execution_count": 39,
      "outputs": []
    },
    {
      "cell_type": "code",
      "source": [
        "# 모델 학습 및 예측\n",
        "predictions = {}\n",
        "for model_name, features in significant_features.items():\n",
        "    if features and model_name in car_data.columns and len(car_data[model_name].unique()) > 1:  # 유의미한 피처가 있고 데이터가 모두 0이 아닌 경우\n",
        "        X_train, X_test, y_train, y_test = prepare_data(model_name, features, scaled_car_data)\n",
        "        model = XGBRegressor(n_estimators=100, random_state=42)\n",
        "        model.fit(X_train, y_train)\n",
        "        y_pred = model.predict(X_test)\n",
        "        mse = mean_squared_error(y_test, y_pred)\n",
        "        r2 = r2_score(y_test, y_pred)\n",
        "        print(f'--- {model_name} ---')\n",
        "        print(f'Mean Squared Error: {mse}')\n",
        "        print(f'R-squared: {r2}')\n",
        "\n",
        "        # 2023년도 데이터로 예측\n",
        "        future_data = scaled_car_data[(car_data['Year'] == 2023.0)][features]\n",
        "        if not future_data.empty:  # 2023년 데이터가 있는 경우\n",
        "            future_pred = model.predict(future_data)\n",
        "            predictions[model_name] = future_pred\n",
        "\n",
        "# 결과 확인\n",
        "for model_name, future_pred in predictions.items():\n",
        "    print(f'--- {model_name} ---')\n",
        "    actual = car_data[(car_data['Year'] == 2023.0)][model_name].values\n",
        "    print(f'Predicted: {future_pred}')\n",
        "    print(f'Actual: {actual}')\n",
        "    mse = mean_squared_error(actual, future_pred)\n",
        "    r2 = r2_score(actual, future_pred)\n",
        "    print(f'Mean Squared Error: {mse}')\n",
        "    print(f'R-squared: {r2}')\n"
      ],
      "metadata": {
        "colab": {
          "base_uri": "https://localhost:8080/"
        },
        "id": "Ir3w7PqslOT8",
        "outputId": "9b0a0d02-b7b5-42f6-9781-a43b5a876cb7"
      },
      "execution_count": 40,
      "outputs": [
        {
          "output_type": "stream",
          "name": "stdout",
          "text": [
            "--- EcoVolt 5 (NE) ---\n",
            "Mean Squared Error: 1032166.6617750289\n",
            "R-squared: 0.09000751023058928\n",
            "--- VoltSUV (JK EV) ---\n",
            "Mean Squared Error: 6011.840703516138\n",
            "R-squared: 0.6836903896629196\n",
            "--- UrbanEV (SX2 EV) ---\n",
            "Mean Squared Error: 12444.713087234157\n",
            "R-squared: -1.3830756955279493\n",
            "--- EcoVolt 5 Sport (NE N) ---\n",
            "Mean Squared Error: 403.7928991885084\n",
            "R-squared: -8.267860338405965\n",
            "--- EcoVolt 5 (NE) ---\n",
            "Predicted: [  76.23236  563.5569  1702.2078  2121.7866  2395.2102  1296.8435\n",
            "  617.0066  1061.8629   613.7187  1374.0455  1668.1487   762.7266 ]\n",
            "Actual: [  76. 1911. 1701. 2123. 2396. 1297. 1350. 1061.  612. 1376. 1669.  763.]\n",
            "Mean Squared Error: 196074.51970310355\n",
            "R-squared: 0.5127679762893413\n",
            "--- VoltSUV (JK EV) ---\n",
            "Predicted: [  3.0103216   3.0103216 301.9986    320.00046   326.9919    246.99925\n",
            " 246.99925    94.00824   120.99502   239.99475    90.99339    31.004766 ]\n",
            "Actual: [  3. 177. 302. 320. 327. 247. 206.  94. 121. 240.  91.  31.]\n",
            "Mean Squared Error: 2662.7789363196503\n",
            "R-squared: 0.767095253875399\n",
            "--- UrbanEV (SX2 EV) ---\n",
            "Predicted: [4.2355085e-05 4.2355085e-05 4.2355085e-05 4.2355085e-05 6.4000038e+01\n",
            " 6.6399738e+02 6.6399738e+02 3.5500122e+02 2.0799886e+02 3.3699866e+02\n",
            " 4.3199826e+02 2.1200113e+02]\n",
            "Actual: [  0.   0.   0.   0.  64. 664. 238. 355. 208. 337. 432. 212.]\n",
            "Mean Squared Error: 15122.813661558672\n",
            "R-squared: 0.6304400592901168\n",
            "--- EcoVolt 5 Sport (NE N) ---\n",
            "Predicted: [3.2280055e-05 3.2280055e-05 3.2280055e-05 3.2280055e-05 3.2280055e-05\n",
            " 3.2280055e-05 3.2280055e-05 3.2280055e-05 9.2998138e+01 9.4998077e+01\n",
            " 5.3998878e+01 2.8000973e+01]\n",
            "Actual: [ 0.  0.  0.  0.  0.  0.  0.  0. 93. 95. 54. 28.]\n",
            "Mean Squared Error: 7.811878539073946e-07\n",
            "R-squared: 0.9999999993872636\n"
          ]
        }
      ]
    },
    {
      "cell_type": "code",
      "source": [
        "\n",
        "# 각 열의 값을 숫자로 변환\n",
        "for column in car_data.columns:\n",
        "    if car_data[column].dtype == object:\n",
        "        car_data[column] = pd.to_numeric(car_data[column].astype(str).str.replace(',', ''), errors='coerce')\n",
        "\n",
        "# 결측값 처리 (평균값으로 대체)\n",
        "car_data.fillna(car_data.mean(), inplace=True)\n",
        "\n",
        "# 특성 엔지니어링: 연도와 월을 합친 새로운 피처 생성\n",
        "car_data['Year_Month'] = car_data['Year'] + (car_data['Month'] - 1) / 12\n",
        "\n",
        "# 스케일링 및 피처 선택\n",
        "features_to_scale = ['KOSPI 종가', '국고보조금', '1인당 실질 국민총소득(GNI)', '소비자물가지수', '충전소 1기 당 대당 비율']\n",
        "all_features = features_to_scale + ['Year_Month']\n",
        "\n",
        "preprocessor = ColumnTransformer(\n",
        "    transformers=[\n",
        "        ('num', StandardScaler(), features_to_scale + ['Year_Month'])\n",
        "    ])\n",
        "\n",
        "scaled_car_data = car_data.copy()\n",
        "scaled_car_data[features_to_scale + ['Year_Month']] = preprocessor.fit_transform(car_data[features_to_scale + ['Year_Month']])"
      ],
      "metadata": {
        "id": "QZNj0M3ilQ9V"
      },
      "execution_count": 44,
      "outputs": []
    },
    {
      "cell_type": "code",
      "source": [
        "def prepare_data(model_name, features, data):\n",
        "    X = data[features]\n",
        "    y = data[model_name]\n",
        "    return train_test_split(X, y, test_size=0.2, random_state=42)\n"
      ],
      "metadata": {
        "id": "LDALic6NmM8z"
      },
      "execution_count": 45,
      "outputs": []
    },
    {
      "cell_type": "code",
      "source": [
        "# 모델 학습 및 하이퍼파라미터 튜닝\n",
        "def train_and_evaluate(model_name, features, data):\n",
        "    X_train, X_test, y_train, y_test = prepare_data(model_name, features, data)\n",
        "\n",
        "    # 파이프라인 구성\n",
        "    pipeline = Pipeline(steps=[\n",
        "        ('preprocessor', preprocessor),\n",
        "        ('regressor', XGBRegressor(random_state=42))\n",
        "    ])\n",
        "\n",
        "    # 하이퍼파라미터 그리드\n",
        "    param_grid = {\n",
        "        'regressor__n_estimators': [50, 100, 200],\n",
        "        'regressor__learning_rate': [0.01, 0.1, 0.2],\n",
        "        'regressor__max_depth': [3, 5, 7]\n",
        "    }\n",
        "\n",
        "    # 그리드 서치\n",
        "    grid_search = GridSearchCV(pipeline, param_grid, cv=5, scoring='neg_mean_squared_error')\n",
        "    grid_search.fit(X_train, y_train)\n",
        "\n",
        "    # 최적 모델로 예측\n",
        "    best_model = grid_search.best_estimator_\n",
        "    y_pred = best_model.predict(X_test)\n",
        "\n",
        "    mse = mean_squared_error(y_test, y_pred)\n",
        "    r2 = r2_score(y_test, y_pred)\n",
        "    print(f'--- {model_name} ---')\n",
        "    print(f'Mean Squared Error: {mse}')\n",
        "    print(f'R-squared: {r2}')\n",
        "\n",
        "    # 2023년도 데이터로 예측\n",
        "    future_data = data[(car_data['Year'] == 2023.0)][features]\n",
        "    if not future_data.empty:  # 2023년 데이터가 있는 경우\n",
        "        future_pred = best_model.predict(future_data)\n",
        "        predictions[model_name] = (future_pred, car_data[(car_data['Year'] == 2023.0)][model_name].values)\n",
        "\n",
        "    return best_model\n",
        "\n",
        "# 주요 모델 학습\n",
        "predictions = {}\n",
        "models = ['EcoVolt 5 (NE)', 'UrbanEV (SX2 EV)', 'EcoVolt 5 Sport (NE N)']\n",
        "all_features = features_to_scale + ['Year_Month']\n",
        "\n",
        "for model_name in models:\n",
        "    train_and_evaluate(model_name, all_features, scaled_car_data)\n"
      ],
      "metadata": {
        "colab": {
          "base_uri": "https://localhost:8080/"
        },
        "id": "c18EgZM3mou0",
        "outputId": "329a1295-63be-4b14-f6e0-8c64d0e116eb"
      },
      "execution_count": 48,
      "outputs": [
        {
          "output_type": "stream",
          "name": "stdout",
          "text": [
            "--- EcoVolt 5 (NE) ---\n",
            "Mean Squared Error: 225279.63444135565\n",
            "R-squared: 0.8013859747348493\n",
            "--- UrbanEV (SX2 EV) ---\n",
            "Mean Squared Error: 3729.5799057509657\n",
            "R-squared: 0.28581147949149877\n",
            "--- EcoVolt 5 Sport (NE N) ---\n",
            "Mean Squared Error: 25.266911623371417\n",
            "R-squared: 0.42007348673327805\n"
          ]
        }
      ]
    },
    {
      "cell_type": "markdown",
      "source": [],
      "metadata": {
        "id": "1_o1k9l2nALW"
      }
    },
    {
      "cell_type": "code",
      "source": [
        "# 예측 결과 비교 및 분석\n",
        "for model_name, (predicted, actual) in predictions.items():\n",
        "    print(f'--- {model_name} ---')\n",
        "    print(f'Predicted: {predicted}')\n",
        "    print(f'Actual: {actual}')\n",
        "    mse = mean_squared_error(actual, predicted)\n",
        "    r2 = r2_score(actual, predicted)\n",
        "    print(f'Mean Squared Error: {mse}')\n",
        "    print(f'R-squared: {r2}')\n"
      ],
      "metadata": {
        "colab": {
          "base_uri": "https://localhost:8080/"
        },
        "id": "EwpLWT2NnKP7",
        "outputId": "e0b63b31-288c-4680-f708-7d2410283813"
      },
      "execution_count": 49,
      "outputs": [
        {
          "output_type": "stream",
          "name": "stdout",
          "text": [
            "--- EcoVolt 5 (NE) ---\n",
            "Predicted: [ 729.45856 1068.7753  1218.1251  1632.7041  1632.7041  1284.2653\n",
            " 1221.5481  1284.2653   869.68634 1085.6079  1284.2653  1221.5481 ]\n",
            "Actual: [  76. 1911. 1701. 2123. 2396. 1297. 1350. 1061.  612. 1376. 1669.  763.]\n",
            "Mean Squared Error: 230671.3218844477\n",
            "R-squared: 0.42679724451726786\n",
            "--- UrbanEV (SX2 EV) ---\n",
            "Predicted: [  5.2449694   5.2449694   5.2449694   5.2449694  54.477215  428.1514\n",
            " 428.1514    328.35385   183.48221   250.84193   328.74722   187.76247  ]\n",
            "Actual: [  0.   0.   0.   0.  64. 664. 238. 355. 208. 337. 432. 212.]\n",
            "Mean Squared Error: 9330.482097651828\n",
            "R-squared: 0.7719886994595527\n",
            "--- EcoVolt 5 Sport (NE N) ---\n",
            "Predicted: [ 1.7453688  1.7453688  1.7453688  1.7453688  1.7453688  1.7453688\n",
            "  1.7453688  1.7453688 48.25597   48.25597   23.353157  23.353157 ]\n",
            "Actual: [ 0.  0.  0.  0.  0.  0.  0.  0. 93. 95. 54. 28.]\n",
            "Mean Squared Error: 431.018766064848\n",
            "R-squared: 0.6619239693589007\n"
          ]
        }
      ]
    },
    {
      "cell_type": "code",
      "source": [
        "\n",
        "# 모델 학습 및 예측\n",
        "for model_name, features in significant_features.items():\n",
        "    if features and len(car_data[model_name].unique()) > 1:  # 유의미한 피처가 있고 데이터가 모두 0이 아닌 경우\n",
        "        X_train, X_test, y_train, y_test = prepare_data(model_name, features, scaled_car_data)\n",
        "        model = XGBRegressor(n_estimators=100, random_state=42)\n",
        "        model.fit(X_train, y_train)\n",
        "        y_pred = model.predict(X_test)\n",
        "        mse = mean_squared_error(y_test, y_pred)\n",
        "        print(f'--- {model_name} ---')\n",
        "        print(f'Mean Squared Error: {mse}')\n",
        "\n",
        "        # 2023년도 데이터로 예측\n",
        "        future_data = scaled_car_data[(car_data['Year'] == 2023.0)][features]\n",
        "        if not future_data.empty:  # 2023년 데이터가 있는 경우\n",
        "            future_pred = model.predict(future_data)\n",
        "            predictions[model_name] = future_pred\n"
      ],
      "metadata": {
        "colab": {
          "base_uri": "https://localhost:8080/",
          "height": 490
        },
        "id": "xTO-DHignBJT",
        "outputId": "88aa55b0-8159-4d09-ce09-5c9a76c2e18c"
      },
      "execution_count": 38,
      "outputs": [
        {
          "output_type": "error",
          "ename": "KeyError",
          "evalue": "'EcoVolt 5 (NE)'",
          "traceback": [
            "\u001b[0;31m---------------------------------------------------------------------------\u001b[0m",
            "\u001b[0;31mKeyError\u001b[0m                                  Traceback (most recent call last)",
            "\u001b[0;32m/usr/local/lib/python3.10/dist-packages/pandas/core/indexes/base.py\u001b[0m in \u001b[0;36mget_loc\u001b[0;34m(self, key)\u001b[0m\n\u001b[1;32m   3652\u001b[0m         \u001b[0;32mtry\u001b[0m\u001b[0;34m:\u001b[0m\u001b[0;34m\u001b[0m\u001b[0;34m\u001b[0m\u001b[0m\n\u001b[0;32m-> 3653\u001b[0;31m             \u001b[0;32mreturn\u001b[0m \u001b[0mself\u001b[0m\u001b[0;34m.\u001b[0m\u001b[0m_engine\u001b[0m\u001b[0;34m.\u001b[0m\u001b[0mget_loc\u001b[0m\u001b[0;34m(\u001b[0m\u001b[0mcasted_key\u001b[0m\u001b[0;34m)\u001b[0m\u001b[0;34m\u001b[0m\u001b[0;34m\u001b[0m\u001b[0m\n\u001b[0m\u001b[1;32m   3654\u001b[0m         \u001b[0;32mexcept\u001b[0m \u001b[0mKeyError\u001b[0m \u001b[0;32mas\u001b[0m \u001b[0merr\u001b[0m\u001b[0;34m:\u001b[0m\u001b[0;34m\u001b[0m\u001b[0;34m\u001b[0m\u001b[0m\n",
            "\u001b[0;32m/usr/local/lib/python3.10/dist-packages/pandas/_libs/index.pyx\u001b[0m in \u001b[0;36mpandas._libs.index.IndexEngine.get_loc\u001b[0;34m()\u001b[0m\n",
            "\u001b[0;32m/usr/local/lib/python3.10/dist-packages/pandas/_libs/index.pyx\u001b[0m in \u001b[0;36mpandas._libs.index.IndexEngine.get_loc\u001b[0;34m()\u001b[0m\n",
            "\u001b[0;32mpandas/_libs/hashtable_class_helper.pxi\u001b[0m in \u001b[0;36mpandas._libs.hashtable.PyObjectHashTable.get_item\u001b[0;34m()\u001b[0m\n",
            "\u001b[0;32mpandas/_libs/hashtable_class_helper.pxi\u001b[0m in \u001b[0;36mpandas._libs.hashtable.PyObjectHashTable.get_item\u001b[0;34m()\u001b[0m\n",
            "\u001b[0;31mKeyError\u001b[0m: 'EcoVolt 5 (NE)'",
            "\nThe above exception was the direct cause of the following exception:\n",
            "\u001b[0;31mKeyError\u001b[0m                                  Traceback (most recent call last)",
            "\u001b[0;32m<ipython-input-38-979729e9bed8>\u001b[0m in \u001b[0;36m<cell line: 2>\u001b[0;34m()\u001b[0m\n\u001b[1;32m      2\u001b[0m \u001b[0;32mfor\u001b[0m \u001b[0mmodel_name\u001b[0m\u001b[0;34m,\u001b[0m \u001b[0mfeatures\u001b[0m \u001b[0;32min\u001b[0m \u001b[0msignificant_features\u001b[0m\u001b[0;34m.\u001b[0m\u001b[0mitems\u001b[0m\u001b[0;34m(\u001b[0m\u001b[0;34m)\u001b[0m\u001b[0;34m:\u001b[0m\u001b[0;34m\u001b[0m\u001b[0;34m\u001b[0m\u001b[0m\n\u001b[1;32m      3\u001b[0m     \u001b[0;32mif\u001b[0m \u001b[0mfeatures\u001b[0m \u001b[0;32mand\u001b[0m \u001b[0mlen\u001b[0m\u001b[0;34m(\u001b[0m\u001b[0mcar_data\u001b[0m\u001b[0;34m[\u001b[0m\u001b[0mmodel_name\u001b[0m\u001b[0;34m]\u001b[0m\u001b[0;34m.\u001b[0m\u001b[0munique\u001b[0m\u001b[0;34m(\u001b[0m\u001b[0;34m)\u001b[0m\u001b[0;34m)\u001b[0m \u001b[0;34m>\u001b[0m \u001b[0;36m1\u001b[0m\u001b[0;34m:\u001b[0m  \u001b[0;31m# 유의미한 피처가 있고 데이터가 모두 0이 아닌 경우\u001b[0m\u001b[0;34m\u001b[0m\u001b[0;34m\u001b[0m\u001b[0m\n\u001b[0;32m----> 4\u001b[0;31m         \u001b[0mX_train\u001b[0m\u001b[0;34m,\u001b[0m \u001b[0mX_test\u001b[0m\u001b[0;34m,\u001b[0m \u001b[0my_train\u001b[0m\u001b[0;34m,\u001b[0m \u001b[0my_test\u001b[0m \u001b[0;34m=\u001b[0m \u001b[0mprepare_data\u001b[0m\u001b[0;34m(\u001b[0m\u001b[0mmodel_name\u001b[0m\u001b[0;34m,\u001b[0m \u001b[0mfeatures\u001b[0m\u001b[0;34m,\u001b[0m \u001b[0mscaled_car_data\u001b[0m\u001b[0;34m)\u001b[0m\u001b[0;34m\u001b[0m\u001b[0;34m\u001b[0m\u001b[0m\n\u001b[0m\u001b[1;32m      5\u001b[0m         \u001b[0mmodel\u001b[0m \u001b[0;34m=\u001b[0m \u001b[0mXGBRegressor\u001b[0m\u001b[0;34m(\u001b[0m\u001b[0mn_estimators\u001b[0m\u001b[0;34m=\u001b[0m\u001b[0;36m100\u001b[0m\u001b[0;34m,\u001b[0m \u001b[0mrandom_state\u001b[0m\u001b[0;34m=\u001b[0m\u001b[0;36m42\u001b[0m\u001b[0;34m)\u001b[0m\u001b[0;34m\u001b[0m\u001b[0;34m\u001b[0m\u001b[0m\n\u001b[1;32m      6\u001b[0m         \u001b[0mmodel\u001b[0m\u001b[0;34m.\u001b[0m\u001b[0mfit\u001b[0m\u001b[0;34m(\u001b[0m\u001b[0mX_train\u001b[0m\u001b[0;34m,\u001b[0m \u001b[0my_train\u001b[0m\u001b[0;34m)\u001b[0m\u001b[0;34m\u001b[0m\u001b[0;34m\u001b[0m\u001b[0m\n",
            "\u001b[0;32m<ipython-input-32-f140732e26be>\u001b[0m in \u001b[0;36mprepare_data\u001b[0;34m(model_name, features, data)\u001b[0m\n\u001b[1;32m     17\u001b[0m         \u001b[0mfeatures\u001b[0m \u001b[0;34m=\u001b[0m \u001b[0;34m[\u001b[0m\u001b[0;34m'KOSPI 종가'\u001b[0m\u001b[0;34m,\u001b[0m \u001b[0;34m'국고보조금'\u001b[0m\u001b[0;34m,\u001b[0m \u001b[0;34m'1인당 실질 국민총소득(GNI)'\u001b[0m\u001b[0;34m,\u001b[0m \u001b[0;34m'소비자물가지수'\u001b[0m\u001b[0;34m,\u001b[0m \u001b[0;34m'충전소 1기 당 대당 비율'\u001b[0m\u001b[0;34m]\u001b[0m\u001b[0;34m\u001b[0m\u001b[0;34m\u001b[0m\u001b[0m\n\u001b[1;32m     18\u001b[0m     \u001b[0mX\u001b[0m \u001b[0;34m=\u001b[0m \u001b[0mdata\u001b[0m\u001b[0;34m[\u001b[0m\u001b[0mfeatures\u001b[0m\u001b[0;34m]\u001b[0m\u001b[0;34m\u001b[0m\u001b[0;34m\u001b[0m\u001b[0m\n\u001b[0;32m---> 19\u001b[0;31m     \u001b[0my\u001b[0m \u001b[0;34m=\u001b[0m \u001b[0mdata\u001b[0m\u001b[0;34m[\u001b[0m\u001b[0mmodel_name\u001b[0m\u001b[0;34m]\u001b[0m\u001b[0;34m\u001b[0m\u001b[0;34m\u001b[0m\u001b[0m\n\u001b[0m\u001b[1;32m     20\u001b[0m     \u001b[0;32mreturn\u001b[0m \u001b[0mtrain_test_split\u001b[0m\u001b[0;34m(\u001b[0m\u001b[0mX\u001b[0m\u001b[0;34m,\u001b[0m \u001b[0my\u001b[0m\u001b[0;34m,\u001b[0m \u001b[0mtest_size\u001b[0m\u001b[0;34m=\u001b[0m\u001b[0;36m0.2\u001b[0m\u001b[0;34m,\u001b[0m \u001b[0mrandom_state\u001b[0m\u001b[0;34m=\u001b[0m\u001b[0;36m42\u001b[0m\u001b[0;34m)\u001b[0m\u001b[0;34m\u001b[0m\u001b[0;34m\u001b[0m\u001b[0m\n",
            "\u001b[0;32m/usr/local/lib/python3.10/dist-packages/pandas/core/frame.py\u001b[0m in \u001b[0;36m__getitem__\u001b[0;34m(self, key)\u001b[0m\n\u001b[1;32m   3759\u001b[0m             \u001b[0;32mif\u001b[0m \u001b[0mself\u001b[0m\u001b[0;34m.\u001b[0m\u001b[0mcolumns\u001b[0m\u001b[0;34m.\u001b[0m\u001b[0mnlevels\u001b[0m \u001b[0;34m>\u001b[0m \u001b[0;36m1\u001b[0m\u001b[0;34m:\u001b[0m\u001b[0;34m\u001b[0m\u001b[0;34m\u001b[0m\u001b[0m\n\u001b[1;32m   3760\u001b[0m                 \u001b[0;32mreturn\u001b[0m \u001b[0mself\u001b[0m\u001b[0;34m.\u001b[0m\u001b[0m_getitem_multilevel\u001b[0m\u001b[0;34m(\u001b[0m\u001b[0mkey\u001b[0m\u001b[0;34m)\u001b[0m\u001b[0;34m\u001b[0m\u001b[0;34m\u001b[0m\u001b[0m\n\u001b[0;32m-> 3761\u001b[0;31m             \u001b[0mindexer\u001b[0m \u001b[0;34m=\u001b[0m \u001b[0mself\u001b[0m\u001b[0;34m.\u001b[0m\u001b[0mcolumns\u001b[0m\u001b[0;34m.\u001b[0m\u001b[0mget_loc\u001b[0m\u001b[0;34m(\u001b[0m\u001b[0mkey\u001b[0m\u001b[0;34m)\u001b[0m\u001b[0;34m\u001b[0m\u001b[0;34m\u001b[0m\u001b[0m\n\u001b[0m\u001b[1;32m   3762\u001b[0m             \u001b[0;32mif\u001b[0m \u001b[0mis_integer\u001b[0m\u001b[0;34m(\u001b[0m\u001b[0mindexer\u001b[0m\u001b[0;34m)\u001b[0m\u001b[0;34m:\u001b[0m\u001b[0;34m\u001b[0m\u001b[0;34m\u001b[0m\u001b[0m\n\u001b[1;32m   3763\u001b[0m                 \u001b[0mindexer\u001b[0m \u001b[0;34m=\u001b[0m \u001b[0;34m[\u001b[0m\u001b[0mindexer\u001b[0m\u001b[0;34m]\u001b[0m\u001b[0;34m\u001b[0m\u001b[0;34m\u001b[0m\u001b[0m\n",
            "\u001b[0;32m/usr/local/lib/python3.10/dist-packages/pandas/core/indexes/base.py\u001b[0m in \u001b[0;36mget_loc\u001b[0;34m(self, key)\u001b[0m\n\u001b[1;32m   3653\u001b[0m             \u001b[0;32mreturn\u001b[0m \u001b[0mself\u001b[0m\u001b[0;34m.\u001b[0m\u001b[0m_engine\u001b[0m\u001b[0;34m.\u001b[0m\u001b[0mget_loc\u001b[0m\u001b[0;34m(\u001b[0m\u001b[0mcasted_key\u001b[0m\u001b[0;34m)\u001b[0m\u001b[0;34m\u001b[0m\u001b[0;34m\u001b[0m\u001b[0m\n\u001b[1;32m   3654\u001b[0m         \u001b[0;32mexcept\u001b[0m \u001b[0mKeyError\u001b[0m \u001b[0;32mas\u001b[0m \u001b[0merr\u001b[0m\u001b[0;34m:\u001b[0m\u001b[0;34m\u001b[0m\u001b[0;34m\u001b[0m\u001b[0m\n\u001b[0;32m-> 3655\u001b[0;31m             \u001b[0;32mraise\u001b[0m \u001b[0mKeyError\u001b[0m\u001b[0;34m(\u001b[0m\u001b[0mkey\u001b[0m\u001b[0;34m)\u001b[0m \u001b[0;32mfrom\u001b[0m \u001b[0merr\u001b[0m\u001b[0;34m\u001b[0m\u001b[0;34m\u001b[0m\u001b[0m\n\u001b[0m\u001b[1;32m   3656\u001b[0m         \u001b[0;32mexcept\u001b[0m \u001b[0mTypeError\u001b[0m\u001b[0;34m:\u001b[0m\u001b[0;34m\u001b[0m\u001b[0;34m\u001b[0m\u001b[0m\n\u001b[1;32m   3657\u001b[0m             \u001b[0;31m# If we have a listlike key, _check_indexing_error will raise\u001b[0m\u001b[0;34m\u001b[0m\u001b[0;34m\u001b[0m\u001b[0m\n",
            "\u001b[0;31mKeyError\u001b[0m: 'EcoVolt 5 (NE)'"
          ]
        }
      ]
    },
    {
      "cell_type": "code",
      "source": [
        "scaled_car_data"
      ],
      "metadata": {
        "id": "yxlhVYGBu4TR"
      },
      "execution_count": null,
      "outputs": []
    },
    {
      "cell_type": "code",
      "source": [
        "print(car_data.columns)\n"
      ],
      "metadata": {
        "id": "q-zFLQJEnEVV"
      },
      "execution_count": null,
      "outputs": []
    },
    {
      "cell_type": "code",
      "source": [
        "\n",
        "# 데이터 로드\n",
        "file_path = './car_data_full.csv'\n",
        "car_data = pd.read_csv(file_path)\n",
        "\n",
        "# 데이터 전처리\n",
        "car_data.replace('-', 0, inplace=True)\n",
        "car_data.fillna(0, inplace=True)\n",
        "for column in car_data.columns:\n",
        "    car_data[column] = pd.to_numeric(car_data[column].astype(str).str.replace(',', ''), errors='coerce')\n",
        "car_data.fillna(0, inplace=True)\n",
        "\n",
        "# 데이터 정규화\n",
        "features_to_scale = ['KOSPI 종가', '국고보조금', '1인당 실질 국민총소득(GNI)', '소비자물가지수', '충전소 1기 당 대당 비율']\n",
        "scaler = StandardScaler()\n",
        "scaled_features = scaler.fit_transform(car_data[features_to_scale])\n",
        "scaled_car_data = car_data.copy()\n",
        "scaled_car_data[features_to_scale] = scaled_features\n",
        "\n",
        "# 모델별 유의미한 피처 선정 및 학습, 예측\n",
        "\n",
        "# 유의미한 피처 사전 정의\n",
        "significant_features = {\n",
        "    'EcoVolt 5 (NE)': ['KOSPI 종가', '충전소 1기 당 대당 비율'],\n",
        "    'LuxEV 80 (RG3 EV)': [],  # 유의미한 피처 없음, 예측 생략\n",
        "    'VoltSUV (JK EV)': ['소비자물가지수'],\n",
        "    'EcoVolt 6 (CE)': [],  # 유의미한 피처 없음, 예측 생략\n",
        "    'UrbanEV (SX2 EV)': ['소비자물가지수'],\n",
        "    'EcoVolt 5 Sport (NE N)': ['소비자물가지수']\n",
        "}\n",
        "\n",
        "# 판매량 예측을 위한 데이터 준비\n",
        "def prepare_data(model_name, features, data):\n",
        "    if not features:  # 유의미한 피처가 없는 경우 전체 피처 사용\n",
        "        features = ['KOSPI 종가', '국고보조금', '1인당 실질 국민총소득(GNI)', '소비자물가지수', '충전소 1기 당 대당 비율']\n",
        "    X = data[features]\n",
        "    y = car_data[model_name]\n",
        "    return train_test_split(X, y, test_size=0.2, random_state=42)\n",
        "\n",
        "# 예측 결과 저장\n",
        "predictions = {}\n",
        "\n",
        "# 모델 학습 및 예측\n",
        "for model_name, features in significant_features.items():\n",
        "    if features and len(car_data[model_name].unique()) > 1:  # 유의미한 피처가 있고 데이터가 모두 0이 아닌 경우\n",
        "        X_train, X_test, y_train, y_test = prepare_data(model_name, features, scaled_car_data)\n",
        "        model = XGBRegressor(n_estimators=100, random_state=42)\n",
        "        model.fit(X_train, y_train)\n",
        "        y_pred = model.predict(X_test)\n",
        "        mse = mean_squared_error(y_test, y_pred)\n",
        "        print(f'--- {model_name} ---')\n",
        "        print(f'Mean Squared Error: {mse}')\n",
        "\n",
        "        # 2023년도 데이터로 예측\n",
        "        future_data = scaled_car_data[(car_data['Year'] == 2023.0)][features]\n",
        "        if not future_data.empty:  # 2023년 데이터가 있는 경우\n",
        "            future_pred = model.predict(future_data)\n",
        "            predictions[model_name] = future_pred\n",
        "\n",
        "# 실제 2023년 월별 판매량 데이터 추출\n",
        "actual_2023_sales = car_data[car_data['Year'] == 2023.0][['Month', 'EcoVolt 5 (NE)', 'VoltSUV (JK EV)', 'UrbanEV (SX2 EV)', 'EcoVolt 5 Sport (NE N)']]\n",
        "\n",
        "# 예측 결과와 실제 결과 비교\n",
        "for model_name, future_pred in predictions.items():\n",
        "    actual = actual_2023_sales[model_name].values\n",
        "    mse = mean_squared_error(actual, future_pred)\n",
        "    r2 = r2_score(actual, future_pred)\n",
        "    print(f'--- {model_name} ---')\n",
        "    print(f'Predicted: {future_pred}')\n",
        "    print(f'Actual: {actual}')\n",
        "    print(f'Mean Squared Error: {mse}')\n",
        "    print(f'R-squared: {r2}')"
      ],
      "metadata": {
        "id": "6ekK0Fw0nVp0"
      },
      "execution_count": null,
      "outputs": []
    },
    {
      "cell_type": "code",
      "source": [
        "\n",
        "# 특정 컬럼의 평균값으로 결측치를 채우기\n",
        "def fill_missing_with_mean(df, column_name):\n",
        "    mean_value = df[column_name].mean()\n",
        "    df[column_name].replace(0, mean_value, inplace=True)\n",
        "\n",
        "# 각 모델별 판매량 컬럼에 대해 평균값으로 결측치를 채우기\n",
        "model_columns = ['EcoVolt 5 (NE)', 'LuxEV 80 (RG3 EV)', 'VoltSUV (JK EV)', 'EcoVolt 6 (CE)', 'UrbanEV (SX2 EV)', 'EcoVolt 5 Sport (NE N)']\n",
        "for col in model_columns:\n",
        "    fill_missing_with_mean(car_data, col)\n",
        "\n",
        "# 결과 확인\n",
        "print(car_data)"
      ],
      "metadata": {
        "id": "HFwCk5HqnnNh"
      },
      "execution_count": null,
      "outputs": []
    },
    {
      "cell_type": "code",
      "source": [
        "car_data.head(100)"
      ],
      "metadata": {
        "id": "nDjAKZjhpROq"
      },
      "execution_count": null,
      "outputs": []
    },
    {
      "cell_type": "code",
      "source": [
        "file_path = './car_data_full.csv'\n",
        "car_data = pd.read_csv(file_path)\n",
        "car_data.head(10)"
      ],
      "metadata": {
        "id": "fV2pZej1plCb"
      },
      "execution_count": null,
      "outputs": []
    },
    {
      "cell_type": "code",
      "source": [
        "\n",
        "# Month 열을 월별로 정수로 변환\n",
        "month_mapping = {\n",
        "    '1월': 1, '2월': 2, '3월': 3, '4월': 4, '5월': 5, '6월': 6,\n",
        "    '7월': 7, '8월': 8, '9월': 9, '10월': 10, '11월': 11, '12월': 12\n",
        "}\n",
        "car_data['Month'] = car_data['Month'].map(month_mapping)\n",
        "\n",
        "# Month 열이 NaN인 경우 확인\n",
        "print(car_data[car_data['Month'].isna()])\n",
        "\n",
        "# 각 열의 문자열 값을 숫자로 변환\n",
        "for column in car_data.columns:\n",
        "    if car_data[column].dtype == object:\n",
        "        car_data[column] = car_data[column].str.replace(',', '').str.strip()\n",
        "        car_data[column] = pd.to_numeric(car_data[column], errors='coerce')\n",
        "\n",
        "# 결측치를 월별 평균값으로 채우기\n",
        "car_data_filled = car_data.copy()\n",
        "\n",
        "# 특정 컬럼의 월별 평균값으로 결측치를 채우기\n",
        "def fill_missing_with_monthly_mean(df, column_name):\n",
        "    df[column_name] = df.groupby('Month')[column_name].transform(lambda x: x.fillna(x.mean()))\n",
        "\n",
        "# 각 모델별 판매량 컬럼에 대해 월별 평균값으로 결측치를 채우기\n",
        "model_columns = ['EcoVolt 5 (NE)', 'LuxEV 80 (RG3 EV)', 'VoltSUV (JK EV)', 'EcoVolt 6 (CE)', 'UrbanEV (SX2 EV)', 'EcoVolt 5 Sport (NE N)']\n",
        "for col in model_columns:\n",
        "    fill_missing_with_monthly_mean(car_data_filled, col)\n",
        "\n",
        "# 남아있는 결측치는 0으로 채우기 (모든 월이 결측치인 경우)\n",
        "car_data_filled.fillna(0, inplace=True)\n",
        "\n",
        "# 결과 확인\n",
        "print(car_data_filled)\n"
      ],
      "metadata": {
        "id": "oROc6U4cqNWB"
      },
      "execution_count": null,
      "outputs": []
    },
    {
      "cell_type": "code",
      "source": [
        "\n",
        "\n",
        "# 데이터 전처리\n",
        "car_data.replace('-', np.nan, inplace=True)\n",
        "car_data.fillna(0, inplace=True)\n",
        "\n",
        "# 각 열의 값을 숫자로 변환\n",
        "for column in car_data.columns:\n",
        "    if car_data[column].dtype == object:\n",
        "        car_data[column] = pd.to_numeric(car_data[column].astype(str).str.replace(',', ''), errors='coerce')\n",
        "\n",
        "# 월별로 데이터 보간\n",
        "def interpolate_monthly(df, column_name):\n",
        "    df[column_name] = df.groupby('Month')[column_name].apply(lambda group: group.replace(0, np.nan).interpolate(method='linear').fillna(method='bfill').fillna(method='ffill'))\n",
        "\n",
        "# 각 모델별 판매량 컬럼에 대해 보간\n",
        "model_columns = ['EcoVolt 5 (NE)', 'LuxEV 80 (RG3 EV)', 'VoltSUV (JK EV)', 'EcoVolt 6 (CE)', 'UrbanEV (SX2 EV)', 'EcoVolt 5 Sport (NE N)']\n",
        "for col in model_columns:\n",
        "    interpolate_monthly(car_data, col)"
      ],
      "metadata": {
        "id": "qqugBPk2qP8r"
      },
      "execution_count": null,
      "outputs": []
    },
    {
      "cell_type": "code",
      "source": [],
      "metadata": {
        "id": "7LkYxvlEtB5p"
      },
      "execution_count": null,
      "outputs": []
    }
  ]
}